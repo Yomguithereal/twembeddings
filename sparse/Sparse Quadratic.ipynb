{
 "cells": [
  {
   "cell_type": "markdown",
   "id": "e26e001a-d9ad-4a85-80b9-03140f4cb361",
   "metadata": {},
   "source": [
    "# Sparse reproduction of clustering method"
   ]
  },
  {
   "cell_type": "code",
   "execution_count": 44,
   "id": "b1a6196b-93ab-4ce7-b2c7-04f7bf073945",
   "metadata": {},
   "outputs": [],
   "source": [
    "import csv\n",
    "import math\n",
    "import networkx as nx\n",
    "from operator import itemgetter\n",
    "from datetime import datetime, timedelta\n",
    "from random import sample, choice\n",
    "from statistics import mean, median_low\n",
    "from collections import Counter, defaultdict\n",
    "from tqdm.notebook import tqdm\n",
    "from fog.tokenizers import WordTokenizer\n",
    "from fog.metrics import sparse_normalize, sparse_dot_product\n",
    "from fog.evaluation import best_matching\n",
    "from twitwi.constants import TWEET_DATETIME_FORMAT\n",
    "from stop_words import STOP_WORDS_FR\n",
    "from typing import List, Dict\n",
    "from ebbe import distinct, grouped"
   ]
  },
  {
   "cell_type": "code",
   "execution_count": 2,
   "id": "b5b489f2-a483-4f77-8229-acb2c655707d",
   "metadata": {},
   "outputs": [],
   "source": [
    "%load_ext Cython"
   ]
  },
  {
   "cell_type": "markdown",
   "id": "e001aa35-3247-4bfa-82d5-1e8b4c990453",
   "metadata": {},
   "source": [
    "## Constants and helpers"
   ]
  },
  {
   "cell_type": "code",
   "execution_count": 3,
   "id": "59114cb3-07ff-48b8-a4c0-7dfb149bb82f",
   "metadata": {},
   "outputs": [],
   "source": [
    "ONE_DAY = timedelta(days=1)\n",
    "\n",
    "def parse_date(created_at):\n",
    "    return datetime.strptime(created_at, TWEET_DATETIME_FORMAT)"
   ]
  },
  {
   "cell_type": "markdown",
   "id": "0d0f7ace-67f1-4afb-b02a-e4efc518be28",
   "metadata": {},
   "source": [
    "## Reading tweets file"
   ]
  },
  {
   "cell_type": "code",
   "execution_count": 4,
   "id": "f768c4a4-8606-4b78-bf93-e0188735408f",
   "metadata": {},
   "outputs": [],
   "source": [
    "with open('../data/event2018.tsv') as f:\n",
    "    TWEETS = sorted(\n",
    "        distinct(csv.DictReader(f, delimiter='\\t'), key=itemgetter('id')),\n",
    "        key=itemgetter('id')\n",
    "    )"
   ]
  },
  {
   "cell_type": "code",
   "execution_count": 5,
   "id": "263b7713-87a3-466a-9688-fa23ed49e342",
   "metadata": {},
   "outputs": [],
   "source": [
    "# Adding dates & parsing stuff\n",
    "for i, tweet in enumerate(TWEETS):\n",
    "    tweet['index'] = i\n",
    "    tweet['event'] = int(tweet['event'])\n",
    "    tweet['date'] = parse_date(tweet['created_at'])\n",
    "    tweet['timestamp'] = tweet['date'].timestamp()\n",
    "    tweet['label'] = int(tweet['label'].split('.')[0]) if tweet['label'] else None"
   ]
  },
  {
   "cell_type": "code",
   "execution_count": 6,
   "id": "fce41a24-5cbf-4833-91ca-c2ff9b994463",
   "metadata": {},
   "outputs": [
    {
     "name": "stdout",
     "output_type": "stream",
     "text": [
      "id 1018722125941755905\n",
      "label_day 0.0\n",
      "event 20180716001\n",
      "text #Rennes - La sortie de prison de Djamel Beghal [Vidéo exclusive] via @letelegramme https://t.co/tbOthY1Ren\n",
      "text+quote+reply #Rennes - La sortie de prison de Djamel Beghal [Vidéo exclusive] via @letelegramme https://t.co/tbOthY1Ren  \n",
      "image \n",
      "url_image \n",
      "user1 True\n",
      "user2 True\n",
      "user3 True\n",
      "created_at Mon Jul 16 05:00:56 +0000 2018\n",
      "label 0\n",
      "index 0\n",
      "date 2018-07-16 05:00:56\n",
      "timestamp 1531710056.0\n"
     ]
    }
   ],
   "source": [
    "for k, v in TWEETS[0].items():\n",
    "    print(k, v)"
   ]
  },
  {
   "cell_type": "code",
   "execution_count": 7,
   "id": "1cfeef6e-7d15-41b6-ac37-53dafdf13ad4",
   "metadata": {},
   "outputs": [
    {
     "name": "stdout",
     "output_type": "stream",
     "text": [
      "Total number of tweets: 137757\n",
      "Total number of events: 327\n",
      "Total number of labels: 257\n",
      "Total number of tweets not labeled 41961\n"
     ]
    }
   ],
   "source": [
    "print('Total number of tweets:', len(TWEETS))\n",
    "print('Total number of events:', len(set(t['event'] for t in TWEETS)))\n",
    "print('Total number of labels:', len(set(t['label'] for t in TWEETS if t['label'] is not None)))\n",
    "print('Total number of tweets not labeled', sum(1 if t['label'] is None else 0 for t in TWEETS))"
   ]
  },
  {
   "cell_type": "code",
   "execution_count": 8,
   "id": "357cfbfa-1562-46e8-ac54-5f659a88ec94",
   "metadata": {},
   "outputs": [],
   "source": [
    "TRUTH = defaultdict(list)\n",
    "\n",
    "for tweet in TWEETS:\n",
    "    if tweet['label'] is None:\n",
    "        continue\n",
    "        \n",
    "    TRUTH[tweet['label']].append(tweet['id'])\n",
    "\n",
    "TRUTH = list(TRUTH.values())"
   ]
  },
  {
   "cell_type": "code",
   "execution_count": 111,
   "id": "fc9ae949-8030-4c2d-b5b0-63db36f45205",
   "metadata": {},
   "outputs": [],
   "source": [
    "def print_cluster_stats(clusters):\n",
    "    lens = [len(cluster) for cluster in clusters]\n",
    "    \n",
    "    print('Number of clusters:', len(clusters))\n",
    "    print('Number of non-singleton clusters:', sum(l > 1 for l in lens))\n",
    "    print('Max number of tweets in clusters:', max(lens))\n",
    "    print('Min number of tweets in clusters:', min(lens))\n",
    "    print('Mean number of tweets in clusters:', mean(lens))\n",
    "    print('Median number of tweets in clusters:', median_low(lens))\n",
    "    print('Median number of tweets in non-singleton clusters', median_low(l for l in lens if l > 1))"
   ]
  },
  {
   "cell_type": "code",
   "execution_count": 10,
   "id": "dbac5d84-85f5-4d25-a16d-7a9dd636af66",
   "metadata": {},
   "outputs": [
    {
     "name": "stdout",
     "output_type": "stream",
     "text": [
      "Number of clusters: 257\n",
      "Max number of tweets in clusters: 18020\n",
      "Min number of tweets in clusters: 2\n",
      "Mean number of tweets in clusters: 372.74708171206225\n",
      "Median number of tweets in clusters: 76\n",
      "Median number of tweets in non-singleton clusters 76\n"
     ]
    }
   ],
   "source": [
    "print_cluster_stats(TRUTH)"
   ]
  },
  {
   "cell_type": "markdown",
   "id": "99098701-1e48-4de1-9503-7b578bb80473",
   "metadata": {},
   "source": [
    "## Tokenization & Vectorization\n",
    "\n",
    "*NOTE: It might be useful to convert tokens to incremental ids to speed up hash computations*"
   ]
  },
  {
   "cell_type": "code",
   "execution_count": 11,
   "id": "64233d86-0760-4bc2-9558-d70d87fade96",
   "metadata": {},
   "outputs": [],
   "source": [
    "tokenizer = WordTokenizer(\n",
    "    keep=['word'],\n",
    "    lower=True,\n",
    "    unidecode=True,\n",
    "    split_hashtags=True,\n",
    "    stoplist=STOP_WORDS_FR + [t + \"'\" for t in STOP_WORDS_FR] + [t + \"’\" for t in STOP_WORDS_FR],\n",
    "    reduce_words=True,\n",
    "    decode_html_entities=True\n",
    ")"
   ]
  },
  {
   "cell_type": "code",
   "execution_count": 12,
   "id": "22c23b5b-ae46-42b2-8442-2093e966575c",
   "metadata": {},
   "outputs": [
    {
     "name": "stdout",
     "output_type": "stream",
     "text": [
      "MISE A JOUR : samedi 12:00 🔵FIN DE TOUTES LES #VIGILANCES JAUNES ET DE L'ÉPISODE DE #POLLUTION DANS L'#OISE 🔵  👉Toutes les mesures, notamment de réduction de limitation de vitesse sur autoroutes, sont levées. Le département n'est plus en vigilance jaune #canicule et #orages. https://t.co/5bJXSwNtXg\n",
      "[('word', 'mise'), ('word', 'samedi'), ('word', 'fin'), ('word', 'vigilances'), ('word', 'jaunes'), ('word', 'episode'), ('word', 'pollution'), ('word', 'oise'), ('word', 'mesures'), ('word', 'notamment'), ('word', 'reduction'), ('word', 'limitation'), ('word', 'vitesse'), ('word', 'autoroutes'), ('word', 'levees'), ('word', 'departement'), ('word', 'vigilance'), ('word', 'jaune'), ('word', 'canicule'), ('word', 'orages')]\n",
      "\n",
      "Ils se foutent bien de votre gueule dans cette vidéo ! C'est qui le con maintenant ? Pas le pauvre ado que vous avez sermoné le 18 juin. Je ne mentionne pas non plus les 250 000 euros que les contribuables français ont dû payer pour la piscine de votre villa à Nice\n",
      "[('word', 'foutent'), ('word', 'gueule'), ('word', 'video'), ('word', 'con'), ('word', 'pauvre'), ('word', 'ado'), ('word', 'sermone'), ('word', 'juin'), ('word', 'mentionne'), ('word', 'euros'), ('word', 'contribuables'), ('word', 'francais'), ('word', 'payer'), ('word', 'piscine'), ('word', 'villa'), ('word', 'nice')]\n",
      "\n",
      "putain y’a tout ce qui faut dans cet album la vie dma mere #ASTROWORLD\n",
      "[('word', 'album'), ('word', 'dma'), ('word', 'mere'), ('word', 'astroworld')]\n",
      "\n",
      "Mes chers idoles,  Je tenais à vous remercier, pour tout ce que vous m'avez appris au travers de vos chansons et de vos douces voix. Je n'aurai pas été la même sans vous.  Je vous aime tant, je continuerai de vous suivre, de vous aimer et de vous admirer.  #8YearsOfOneDirection\n",
      "[('word', 'chers'), ('word', 'idoles'), ('word', 'tenais'), ('word', 'remercier'), ('word', 'appris'), ('word', 'travers'), ('word', 'chansons'), ('word', 'douces'), ('word', 'voix'), ('word', 'aurai'), ('word', 'tant'), ('word', 'continuerai'), ('word', 'suivre'), ('word', 'aimer'), ('word', 'admirer'), ('word', '8yearsofonedirection')]\n",
      "\n",
      "Je suis aussi dans l'incompréhension concernant l'absence @AcceptessT durant ces conférences sur les gay Games. Leu… https://t.co/6T1npEmTm7\n",
      "[('word', 'incomprehension'), ('word', 'concernant'), ('word', 'absence'), ('word', 'durant'), ('word', 'conferences'), ('word', 'gay'), ('word', 'games'), ('word', 'leu')]\n",
      "\n"
     ]
    }
   ],
   "source": [
    "sample_to_tokenize = sample(TWEETS, 5)\n",
    "\n",
    "for tweet in sample_to_tokenize:\n",
    "    print(tweet['text'])\n",
    "    print(list(tokenizer(tweet['text'])))\n",
    "    print()"
   ]
  },
  {
   "cell_type": "code",
   "execution_count": 13,
   "id": "41cbcfd1-3dcf-4138-a07d-ba386395893b",
   "metadata": {},
   "outputs": [
    {
     "data": {
      "application/vnd.jupyter.widget-view+json": {
       "model_id": "1c7a851ec0254746a446fe69ef2a6f2d",
       "version_major": 2,
       "version_minor": 0
      },
      "text/plain": [
       "  0%|          | 0/137757 [00:00<?, ?it/s]"
      ]
     },
     "metadata": {},
     "output_type": "display_data"
    }
   ],
   "source": [
    "DOCUMENT_FREQUENCIES = Counter()\n",
    "\n",
    "for tweet in tqdm(TWEETS):\n",
    "    tweet['tokens'] = set(token for _, token in tokenizer(tweet['text']))\n",
    "    for token in tweet['tokens']:\n",
    "        DOCUMENT_FREQUENCIES[token] += 1"
   ]
  },
  {
   "cell_type": "code",
   "execution_count": 14,
   "id": "75e87b55-0fe8-4050-a2c1-ea8708ba85cc",
   "metadata": {},
   "outputs": [
    {
     "name": "stdout",
     "output_type": "stream",
     "text": [
      "Size of vocabulary: 84083\n"
     ]
    }
   ],
   "source": [
    "print('Size of vocabulary:', len(DOCUMENT_FREQUENCIES))"
   ]
  },
  {
   "cell_type": "code",
   "execution_count": 15,
   "id": "c00369b8-515f-437c-9e53-cd64e97ebd04",
   "metadata": {},
   "outputs": [],
   "source": [
    "N = len(TWEETS)\n",
    "TOKEN_IDS = {}\n",
    "INVERSE_DOCUMENT_FREQUENCIES = {}\n",
    "\n",
    "for i, (token, df) in enumerate(DOCUMENT_FREQUENCIES.items()):\n",
    "    if df < 10:\n",
    "        continue\n",
    "    TOKEN_IDS[token] = i\n",
    "    INVERSE_DOCUMENT_FREQUENCIES[token] = 1 + math.log((N + 1) / (df + 1))"
   ]
  },
  {
   "cell_type": "code",
   "execution_count": 16,
   "id": "dbae9d4f-1b8e-4382-86fa-4b869e3958b2",
   "metadata": {},
   "outputs": [
    {
     "name": "stdout",
     "output_type": "stream",
     "text": [
      "Size of vocabulary after df trimming: 14225\n"
     ]
    }
   ],
   "source": [
    "print('Size of vocabulary after df trimming:', len(INVERSE_DOCUMENT_FREQUENCIES))"
   ]
  },
  {
   "cell_type": "code",
   "execution_count": 17,
   "id": "d3bb566a-486f-46e8-843a-caf57ae39435",
   "metadata": {},
   "outputs": [
    {
     "data": {
      "application/vnd.jupyter.widget-view+json": {
       "model_id": "99dbe34a508b463e89a9d496f3bc2bd0",
       "version_major": 2,
       "version_minor": 0
      },
      "text/plain": [
       "  0%|          | 0/137757 [00:00<?, ?it/s]"
      ]
     },
     "metadata": {},
     "output_type": "display_data"
    }
   ],
   "source": [
    "VECTORS: List[Dict[int, float]] = []\n",
    "\n",
    "for i, tweet in tqdm(enumerate(TWEETS), total=len(TWEETS)):\n",
    "    vector = {}\n",
    "\n",
    "    for token in tweet['tokens']:\n",
    "        idf = INVERSE_DOCUMENT_FREQUENCIES.get(token)\n",
    "        \n",
    "        if idf is None:\n",
    "            continue\n",
    "        \n",
    "        vector[TOKEN_IDS[token]] = idf\n",
    "        \n",
    "    # TODO: I need to make fog's sparse_normalize mutating\n",
    "    vector = sparse_normalize(vector)\n",
    "    VECTORS.append(vector)\n",
    "    TWEETS[i]['vector'] = vector"
   ]
  },
  {
   "cell_type": "code",
   "execution_count": 18,
   "id": "52584103-a605-4688-98b6-af7e5641e4d5",
   "metadata": {},
   "outputs": [
    {
     "data": {
      "text/plain": [
       "{1053: 0.2819053429277208,\n",
       " 614: 0.22127831177409393,\n",
       " 1054: 0.2778883710559953,\n",
       " 1055: 0.3270360552825462,\n",
       " 1056: 0.34877074198506636,\n",
       " 535: 0.19202726765211034,\n",
       " 1057: 0.2771703452182757,\n",
       " 1058: 0.3420290070110478,\n",
       " 381: 0.2766408301732054,\n",
       " 1059: 0.30280096548883645,\n",
       " 1060: 0.26412400970698136,\n",
       " 314: 0.3115893902695856}"
      ]
     },
     "execution_count": 18,
     "metadata": {},
     "output_type": "execute_result"
    }
   ],
   "source": [
    "VECTORS[254]"
   ]
  },
  {
   "cell_type": "code",
   "execution_count": 19,
   "id": "46e3cb8e-cac6-40b7-aa2e-4f7c5a23e9d1",
   "metadata": {},
   "outputs": [
    {
     "data": {
      "text/plain": [
       "0.9971253729393061"
      ]
     },
     "execution_count": 19,
     "metadata": {},
     "output_type": "execute_result"
    }
   ],
   "source": [
    "sum(bool(v) for v in VECTORS) / len(VECTORS)"
   ]
  },
  {
   "cell_type": "markdown",
   "id": "3e003abe-493c-45d7-bed4-3b8ddb550dc1",
   "metadata": {},
   "source": [
    "## Clustering"
   ]
  },
  {
   "cell_type": "code",
   "execution_count": 20,
   "id": "144f0f34-b7d5-4e38-bcda-9302921725a2",
   "metadata": {},
   "outputs": [],
   "source": [
    "from fog.clustering import pairwise_connected_components\n",
    "from fog.metrics import sparse_dot_product"
   ]
  },
  {
   "cell_type": "code",
   "execution_count": null,
   "id": "af5d3d88-e9e6-4596-9831-b4d0ae49ee34",
   "metadata": {},
   "outputs": [],
   "source": [
    "it = pairwise_connected_components(\n",
    "    enumerate(VECTORS),\n",
    "    key=itemgetter(1),\n",
    "    similarity=sparse_dot_product,\n",
    "    radius=0.5,\n",
    "    processes=8\n",
    ")\n",
    "CLUSTERS = list(it)"
   ]
  },
  {
   "cell_type": "code",
   "execution_count": 38,
   "id": "8b5abb34-6121-4bf8-9e2d-069fe58736cf",
   "metadata": {},
   "outputs": [],
   "source": [
    "CLUSTERS_WITH_IDS = [[TWEETS[i]['id'] for i, _ in cluster] for cluster in CLUSTERS]"
   ]
  },
  {
   "cell_type": "code",
   "execution_count": 23,
   "id": "d460a3a0-b576-403d-aba0-a4626f5812f9",
   "metadata": {},
   "outputs": [],
   "source": [
    "def clustering(tweets, threshold):\n",
    "    index = defaultdict(list)\n",
    "    \n",
    "    for i, t in enumerate(tweets):\n",
    "        for dim in t['vector'].keys():\n",
    "            index[dim].append(i)\n",
    "\n",
    "    for t1 in tqdm(tweets):\n",
    "        candidates = set()\n",
    "        \n",
    "        upper_bound = t1['date'] + ONE_DAY\n",
    "        lower_bound = t1['date'] - ONE_DAY\n",
    "        \n",
    "        for dim in t1['vector'].keys():\n",
    "            for j in index[dim]:\n",
    "                if i == j:\n",
    "                    continue\n",
    "                candidates.add(j)\n",
    "\n",
    "        for j in candidates:\n",
    "            t2 = tweets[j]\n",
    "            \n",
    "            if t2['date'] > upper_bound or t2['date'] < lower_bound:\n",
    "                continue\n",
    "            \n",
    "            cosine = 1.0 - sparse_dot_product(t1['vector'], t2['vector'])\n",
    "            \n",
    "            if cosine < threshold:\n",
    "                yield (t1, t2, cosine)"
   ]
  },
  {
   "cell_type": "code",
   "execution_count": null,
   "id": "77ae301b-6149-4e0b-bd53-47b814e69e2a",
   "metadata": {},
   "outputs": [
    {
     "data": {
      "application/vnd.jupyter.widget-view+json": {
       "model_id": "b2109f42446340a58ae14e75c807f563",
       "version_major": 2,
       "version_minor": 0
      },
      "text/plain": [
       "  0%|          | 0/137757 [00:00<?, ?it/s]"
      ]
     },
     "metadata": {},
     "output_type": "display_data"
    }
   ],
   "source": [
    "EDGES = []\n",
    "for edge in clustering(TWEETS, 1.0):\n",
    "    EDGES.append(edge)"
   ]
  },
  {
   "cell_type": "code",
   "execution_count": 211,
   "id": "cacfd776-8c02-4baa-b275-0ce7c464088c",
   "metadata": {
    "scrolled": true,
    "tags": []
   },
   "outputs": [],
   "source": [
    "from heapq import nsmallest\n",
    "NN = []\n",
    "\n",
    "for t, neighbors in grouped(EDGES, key=lambda x: x[0]['id']).items():\n",
    "    nn = nsmallest(4, neighbors, key=itemgetter(2))\n",
    "    # argmin = min(neighbors, key=itemgetter(2))\n",
    "    NN.extend(nn)"
   ]
  },
  {
   "cell_type": "code",
   "execution_count": 126,
   "id": "c34b9b35-3483-4929-9d99-fbb01a1ffa5b",
   "metadata": {},
   "outputs": [],
   "source": [
    "def components(tweets, edges, threshold=None):\n",
    "    graph = nx.Graph()\n",
    "    \n",
    "    for t in tweets:\n",
    "        graph.add_node(t['id'])\n",
    "        \n",
    "    for t1, t2, sim in edges:\n",
    "        if threshold is not None and sim > threshold:\n",
    "            continue\n",
    "        \n",
    "        graph.add_edge(t1['id'], t2['id'], weight=sim)\n",
    "\n",
    "    return list(nx.connected_components(graph))"
   ]
  },
  {
   "cell_type": "code",
   "execution_count": 212,
   "id": "a3b05fa5-b45f-4c4b-8404-456c980fc483",
   "metadata": {},
   "outputs": [],
   "source": [
    "CLUSTERS = components(TWEETS, NN, 0.9)"
   ]
  },
  {
   "cell_type": "markdown",
   "id": "44c6cecd-f38e-476f-ab8b-05a064722c60",
   "metadata": {},
   "source": [
    "## Evaluation"
   ]
  },
  {
   "cell_type": "code",
   "execution_count": 114,
   "id": "4f03141f-457b-4b8e-9b99-ee9523ee84f9",
   "metadata": {},
   "outputs": [
    {
     "name": "stdout",
     "output_type": "stream",
     "text": [
      "Number of clusters: 257\n",
      "Number of non-singleton clusters: 257\n",
      "Max number of tweets in clusters: 18020\n",
      "Min number of tweets in clusters: 2\n",
      "Mean number of tweets in clusters: 372.74708171206225\n",
      "Median number of tweets in clusters: 76\n",
      "Median number of tweets in non-singleton clusters 76\n"
     ]
    }
   ],
   "source": [
    "print_cluster_stats(TRUTH)"
   ]
  },
  {
   "cell_type": "code",
   "execution_count": 202,
   "id": "0f37d793-4ccd-401c-b99b-2d2325e9b485",
   "metadata": {},
   "outputs": [
    {
     "name": "stdout",
     "output_type": "stream",
     "text": [
      "Number of clusters: 527\n",
      "Number of non-singleton clusters: 90\n",
      "Max number of tweets in clusters: 136428\n",
      "Min number of tweets in clusters: 1\n",
      "Mean number of tweets in clusters: 261.3984819734345\n",
      "Median number of tweets in clusters: 1\n",
      "Median number of tweets in non-singleton clusters 8\n"
     ]
    }
   ],
   "source": [
    "print_cluster_stats(CLUSTERS)"
   ]
  },
  {
   "cell_type": "code",
   "execution_count": 213,
   "id": "387a898b-d399-4f6b-b81a-f3ebbf6c05d0",
   "metadata": {},
   "outputs": [
    {
     "data": {
      "text/plain": [
       "(0.9973974150368606, 0.045342924640892, 0.06421678454179315)"
      ]
     },
     "execution_count": 213,
     "metadata": {},
     "output_type": "execute_result"
    }
   ],
   "source": [
    "best_matching(TRUTH, CLUSTERS, allow_additional_items=True)"
   ]
  },
  {
   "cell_type": "markdown",
   "id": "57c091d4-2442-4439-93e7-eaa117632b35",
   "metadata": {},
   "source": [
    "## Sanity tests"
   ]
  },
  {
   "cell_type": "code",
   "execution_count": 83,
   "id": "591716af-f923-4f7e-a1ae-c9d983ffd707",
   "metadata": {},
   "outputs": [],
   "source": [
    "TWEETS_INDEX = {t['id']: t for t in TWEETS}"
   ]
  },
  {
   "cell_type": "code",
   "execution_count": 75,
   "id": "f79696b8-be95-4e22-a419-7632aeb741d4",
   "metadata": {
    "scrolled": true,
    "tags": []
   },
   "outputs": [
    {
     "name": "stdout",
     "output_type": "stream",
     "text": [
      "338 0.2482923207688562 0.22311742135519452 0.9999999999999998 0.0\n",
      "498 0.14553582934925588 0.1178202371680357 1.0000000000000002 0.0\n",
      "348 0.08121931789241378 0.050033895394794775 1.0000000000000002 0.0\n",
      "46 0.20173756479342148 0.19212502544914917 0.8350795372708426 0.0\n",
      "96 0.20178262439774716 0.159056006987777 0.91723619507997 0.0\n",
      "27 0.31859335499024116 0.27037391681640144 0.9060832997705063 0.06487108314069774\n",
      "66 0.23090455833899923 0.20066249276015782 0.9083864120872838 0.0\n",
      "113 0.22697600417509983 0.16028052184324693 0.9999999999999999 0.0\n",
      "87 0.1688540882947266 0.16612080055586717 0.7779136091362886 0.0\n",
      "256 0.06820298711254288 0.03413953680591835 0.8234710461889135 0.0\n",
      "500 0.3656163953762494 0.42649208288714197 1.0 0.0\n",
      "33 0.1936048974030048 0.14520766113768058 1.0000000000000002 0.0\n",
      "500 0.12494262801085648 0.11908082643968844 0.9999999999999998 0.0\n",
      "37 0.23005634197114913 0.18792678478351627 0.7686010483006819 0.0\n",
      "37 0.46812192731724994 0.4628327749491855 0.8278337840345131 0.1627263567567725\n",
      "21 0.20265552996439165 0.12569141701016678 0.9827110329078346 0.0\n",
      "84 0.19652517786548 0.1671793441043059 0.8662255463516042 0.0\n",
      "500 0.04392166163697559 0.028328083037011963 0.9644549717772714 0.0\n",
      "4 0.3462337506787585 0.0 0.7439501318756956 0.0\n",
      "21 0.446130086274775 0.4966961567148718 0.7121149408371374 0.1022944714048925\n",
      "20 0.33122639706012663 0.323000068439127 0.7803933149811584 0.0\n",
      "40 0.39826784528076753 0.3694529606576445 0.9059483849261626 0.0\n",
      "91 0.11750564705572103 0.10732750314690562 0.939470651256024 0.0\n",
      "500 0.06362365278882774 0.05407591409061312 0.9567273652979582 0.0\n",
      "50 0.1999187427713726 0.11343230779618488 0.8827960009951044 0.0\n",
      "23 0.10497753902253014 0.07986736963265355 0.6802129190953144 0.0\n",
      "17 0.3403228371183425 0.2297345800765737 0.8927380725978687 0.0\n",
      "118 0.21752927570693 0.20177346656855014 0.9125803889772911 0.0\n",
      "19 0.25902048169515823 0.18775990556328337 0.8967338369047231 0.0\n",
      "11 0.20557366515695286 0.152148133509047 0.5767642472394986 0.0\n",
      "2 0.352796082274829 0.352796082274829 0.352796082274829 0.352796082274829\n",
      "28 0.31813911613357976 0.3122287995628602 0.9013620822332539 0.09195522908519867\n",
      "19 0.34762680837484966 0.32429607617698103 0.8333450163889765 0.09762734273359372\n",
      "500 0.022290822579557803 0.0138384945498886 0.9999999999999999 0.0\n",
      "3 0.7142809454817655 0.6860064545341197 0.770829927377057 0.6860064545341197\n",
      "500 0.043880754751818324 0.01726861710776872 1.0 0.0\n",
      "62 0.17315268434832837 0.14913263848221298 0.766091571537648 0.0\n",
      "46 0.19269337105603832 0.11590149725295294 0.9715298728090884 0.016403496000699236\n",
      "37 0.2842327225244002 0.2008456310745081 0.9999999999999999 0.0\n",
      "110 0.17163084331975084 0.15571108846274656 1.0 0.0\n",
      "49 0.21008441065067235 0.1465423978394873 0.8416455714119792 0.0\n",
      "20 0.22244836322071157 0.2205876009650573 0.7501401047022368 0.0\n",
      "32 0.30236374403885624 0.22822258240826226 0.8250121387669472 0.035604462010448014\n",
      "7 0.3186830243522124 0.23704405332683712 0.5662021356437372 0.10210427019479579\n",
      "2 0.509759798274806 0.509759798274806 0.509759798274806 0.509759798274806\n",
      "17 0.37250712494989613 0.14761969710856904 0.8589344783144456 0.04486208143489196\n",
      "2 0.8633224514092012 0.8633224514092012 0.8633224514092012 0.8633224514092012\n",
      "434 0.08727211818056639 0.08730225308722613 0.9759589461161597 0.0\n",
      "18 0.22842741397402713 0.14304240303592036 0.8007392209699572 0.0\n",
      "82 0.10888605972912309 0.05596786950283142 0.8463161767509578 0.0\n",
      "3 0.5117854631977906 0.4782806064484345 0.6345941500845005 0.42248163306043685\n",
      "500 0.12546230733232713 0.10502281102903482 1.0000000000000002 0.0\n",
      "3 0.3746644796907441 0.3013093809494637 0.5354690906324551 0.2872149674903136\n",
      "462 0.1225419843962717 0.12336745038004121 1.0 0.0\n",
      "7 0.5090827900477314 0.6670342691643069 0.7689596875953489 0.0\n",
      "48 0.3176193632581881 0.2927028313838174 0.8012531436503076 0.0\n",
      "123 0.2488342309926611 0.23568379317522176 0.9870143612014168 0.0\n",
      "14 0.36775007402079085 0.3296619748166375 0.8277038778384583 0.0\n",
      "172 0.26478551663079425 0.2434690576021106 0.9584832182900281 0.0\n",
      "94 0.15759375299449285 0.10988410462691435 0.7808163265690117 0.0\n",
      "54 0.2564106228474784 0.23698431131279635 0.8167191106834695 0.0\n",
      "500 0.10115839401936258 0.09152068545714662 1.0 0.0\n",
      "500 0.08882976119970178 0.08275382923594943 1.0 0.0\n",
      "192 0.12427926513794904 0.10753725177390694 0.9999999999999998 0.0\n",
      "134 0.22367697993517638 0.18910112626219355 0.846978409002457 0.0\n",
      "37 0.2803440115566197 0.2729711337183673 0.7582770848740206 0.039822008176846564\n",
      "13 0.5980482888361652 0.6411154996143246 0.7047664809937623 0.24841838736594635\n",
      "28 0.18503135363167342 0.1337046089468403 1.0 0.0\n",
      "500 0.06954500764062493 0.06197377960877924 1.0 0.0\n",
      "436 0.1170685690053479 0.10299542869005615 1.0000000000000002 0.0\n",
      "117 0.0842213780967976 0.07271936643766783 0.9999999999999998 0.0\n",
      "98 0.10060360049304864 0.0844250226446782 0.8332100113659686 0.0\n",
      "157 0.3364387389553661 0.3232509184153271 0.8899231198799459 0.0\n",
      "500 0.09251155133059925 0.07262244737781627 1.0 0.0\n",
      "500 0.08464638624331668 0.06907064014236629 1.0 0.0\n",
      "500 0.07280182047702953 0.06246700109382866 0.9531967849276856 0.0\n",
      "321 0.09726841377895128 0.07678144462965784 1.0 0.0\n",
      "3 0.06494623619444097 0.011831376914337069 0.18300733166898583 0.0\n",
      "10 0.37811669268416387 0.32910777190725754 0.7578016115645998 0.032813278279773817\n",
      "50 0.09528606443130282 0.052324347239411886 0.918298464008873 0.0\n",
      "41 0.2310818891307366 0.18613201323215264 0.8136556071701503 0.0\n",
      "273 0.1451095260410362 0.12611878873460086 0.9868531336854263 0.0\n",
      "14 0.2643315576331438 0.21867953354906214 0.7292713875291084 0.04434436225310773\n",
      "75 0.09167145810472446 0.07148009053667605 0.8474174803015306 0.0\n",
      "82 0.10471246208739436 0.07087219474168845 0.9999999999999999 0.0\n",
      "20 0.4272384979594999 0.3906908902587111 0.7863500535659991 0.201395728019178\n",
      "109 0.10186944272881718 0.07432538526304865 0.8392840502992404 0.0\n",
      "40 0.24787092004883948 0.1588359412926295 0.9999999999999999 0.0\n",
      "35 0.07105485614989704 0.005782673171292683 0.9084137547128308 0.0\n",
      "6 0.20345438805764637 0.16951168259649277 0.769162244210067 0.0\n",
      "500 0.05021287799179612 0.040444353764445655 0.8216103078744337 0.0\n",
      "107 0.17088186833490301 0.12021235423663028 0.9999999999999996 0.0\n",
      "268 0.07743032006631839 0.06729651129464882 0.9359049161066865 0.0\n",
      "8 0.3683162359818712 0.48799035069559743 0.7633012597512103 0.005271100265719856\n",
      "7 0.6297522425306749 0.6047947938231685 0.6932372073530689 0.6047947938231684\n",
      "500 0.03693614853814607 0.024522512872832667 1.0 0.0\n",
      "500 0.06084130405951941 0.05044863410269006 0.8913831090472243 0.0\n",
      "21 0.24147554550257191 0.18690972710478024 0.9059417934857447 0.0\n",
      "24 0.261119544351847 0.2338802891276947 0.7480003049649823 0.05084586828808019\n",
      "39 0.14738731240380684 0.10636508269636522 0.8563988328131591 0.0\n",
      "43 0.24938439401006712 0.23708690993747547 0.8330795265590138 0.0\n",
      "161 0.19258928909811193 0.16897791769416515 0.9141636786775607 0.0\n",
      "336 0.17748514379594452 0.1512629490109322 0.8572912699662585 0.0\n",
      "500 0.040401276681459965 0.030960333731686118 0.9572504763241552 0.0\n",
      "136 0.2008380255262696 0.156751010864818 1.0 0.0\n",
      "286 0.13541282848132213 0.11672957386895313 0.865326222507335 0.0\n",
      "80 0.19471435665595288 0.16255082257991854 0.8170152856661171 0.0\n",
      "46 0.12196393874183473 0.08356053513525982 0.7694305053596255 0.0\n",
      "138 0.23833155840009063 0.15093564193762787 0.7688397091147305 0.0\n",
      "12 0.07672311756786956 0.06772748654263633 0.5178672095150173 0.0\n",
      "9 0.6196261647345628 0.6033683555401609 0.7850641045446286 0.4453530115272565\n",
      "81 0.11340571545152728 0.08879013976422578 0.858042882158964 0.0\n",
      "41 0.2995814062405246 0.289346305650595 0.876098482174518 0.0\n",
      "90 0.1865849429905237 0.14445818030340127 0.8169047229820536 0.0\n",
      "70 0.22540150098757036 0.2018298706800713 0.8198624377965043 0.0\n",
      "260 0.12101612813962105 0.08766319053644278 1.0 0.0\n",
      "500 0.09308402059394125 0.07879648044132803 0.9200568651318628 0.0\n",
      "137 0.2100779636354895 0.21328140948081747 0.87655928293589 0.0\n",
      "189 0.1333523546983515 0.08997235176659082 0.9629272042190365 0.0\n",
      "47 0.25343604275400394 0.229003302613641 0.8181965788621384 0.057157233501020276\n",
      "55 0.276715466724217 0.24661636729415107 0.8106240257279007 0.0\n",
      "23 0.2742378896466742 0.18408146336831283 0.7906500208249205 0.04101453510800663\n",
      "500 0.07099721190439431 0.054403567968721804 0.8675363459880749 0.0\n",
      "11 0.30122912853208733 0.30270507250509915 0.6594798448299984 0.05872598396942063\n",
      "5 0.7298497346685437 0.714701953734203 0.7871103379841363 0.6489546103278114\n",
      "22 0.40599898149056424 0.4529259223001305 0.7273511743143117 0.0638716982792853\n",
      "80 0.20209275037829327 0.15913444535614263 0.857376163944736 0.0\n",
      "66 0.34846921917395407 0.2601079692041383 0.9138161441335511 0.0\n",
      "500 0.07763574353273403 0.06707020301369082 1.0000000000000002 0.0\n",
      "173 0.1685318526733281 0.11970433943403297 0.9999999999999999 0.0\n",
      "500 0.023657368473109012 0.0 0.6816403434474491 0.0\n",
      "500 0.09293130372412566 0.08121242144600554 0.9221014865118771 0.0\n",
      "101 0.152403402575237 0.14605100098517237 0.8750916119336922 0.0\n",
      "176 0.15977997258014415 0.12527534337563898 0.792954824446138 0.0\n",
      "7 0.4009034801212438 0.15586859224986682 0.7395817719665896 0.11146035238286456\n",
      "6 0.3944470725694557 0.42334885648933374 0.7460902465748405 0.0\n",
      "104 0.2914648908724498 0.32680434988004525 0.8407544173121462 0.0\n",
      "203 0.0871484768802182 0.06899141599068924 0.9639737593133099 0.0\n",
      "16 0.2608537966674996 0.1922432586495879 0.7414562179731443 0.0\n",
      "18 0.5349637519740396 0.5975661568754789 0.799267473237042 0.005951732450619672\n",
      "500 0.08552717795745005 0.07682986208500248 1.0 0.0\n",
      "152 0.14610232768832632 0.11875707216463353 0.9005669926403058 0.0\n",
      "62 0.20228266612067602 0.16030995966449696 0.7993204404269103 0.0\n",
      "61 0.18975302214255646 0.14315488597322035 0.9859302066904463 0.0\n",
      "114 0.18670636082414616 0.16880261746916522 0.9083346062234157 0.0\n",
      "27 0.27956334808517475 0.23798864320749752 0.8842712444988008 0.056067447930277105\n",
      "144 0.2955239157806138 0.30427153422974673 1.0000000000000002 0.0\n",
      "15 0.39295620949066923 0.469908220546116 0.7607619112596999 0.0\n",
      "38 0.08791928786997796 0.033193858454406026 0.7265988025330713 0.0\n",
      "203 0.18631442077497504 0.1635484908205508 0.9363662924879566 0.0\n",
      "500 0.0443069912181591 0.015014361136262259 1.0000000000000002 0.0\n",
      "171 0.13064870650991559 0.10873538214713445 0.9736910510086991 0.0\n",
      "109 0.15246839250841077 0.11741586336908097 0.9147489327045192 0.0\n",
      "275 0.1801698137685914 0.12763803882413874 0.9999999999999999 0.0\n",
      "43 0.45703965777506167 0.5621498461341613 0.8879030823655503 0.0\n",
      "11 0.3013034467020423 0.2833856962576999 0.7893415279077782 0.0\n",
      "261 0.18687311810544846 0.16785073568092324 1.0 0.0\n",
      "187 0.11301148643313468 0.08234324042420584 1.0000000000000002 0.0\n",
      "128 0.15546786810858615 0.12721437087328016 0.9391859542660468 0.03911164171479068\n",
      "18 0.6399872587989245 0.6301760518544867 0.8185586096617693 0.49914506838820766\n",
      "415 0.09045115685657809 0.08610037771410287 1.0 0.0\n",
      "431 0.059390202556562556 0.05499656971025013 0.9999999999999999 0.0\n",
      "71 0.2464283118428461 0.22607361463496234 1.0 0.0\n",
      "120 0.1286836985177137 0.10223118051824821 0.952648645512054 0.0\n",
      "500 0.04755429359747779 0.03936500735088953 0.8914522396933382 0.0\n",
      "3 0.31243337932451615 0.17925667677387425 0.6208647157118914 0.13717874548778286\n",
      "207 0.11602842060002604 0.08714241868091097 0.9410281433489996 0.0\n",
      "105 0.11201904867284959 0.08868227534733396 0.9999999999999997 0.0\n",
      "89 0.2856646067235213 0.2666586002612915 0.9308268232995702 0.0\n",
      "41 0.1138805875215144 0.10257004844255473 0.8351035489349958 0.0\n",
      "28 0.21584462274604618 0.16811648317505606 0.7756983100483679 0.0\n",
      "6 0.7658278411705971 0.7429917944237371 0.8103792090582398 0.6812080078196222\n",
      "6 0.3316054417093027 0.2217602040471784 0.7941014930470272 0.09425835418817351\n",
      "17 0.2815967992678777 0.21073518520227486 0.9140493576304028 0.0068097028158042566\n",
      "117 0.25050566862166923 0.20679236825926817 1.0000000000000002 0.0\n",
      "242 0.15500289166240477 0.1312690172370664 1.0 0.0\n",
      "269 0.1272535633466377 0.11433578081322486 0.9999999999999999 0.0\n",
      "45 0.3741801918455133 0.379911605441999 0.9999999999999999 0.0\n",
      "74 0.2703782058009789 0.2080841511608313 0.9817757024801683 0.0\n",
      "24 0.462118390231466 0.4817849782479348 0.8287526365279069 0.10586114127216906\n",
      "85 0.26659577010363716 0.19052577380946417 0.8994296361696241 0.0\n",
      "500 0.05383844335510539 0.04571899102140824 0.7127638276731505 0.0\n",
      "8 0.09892706014332855 0.07453640876860441 0.3026892869438883 0.0\n",
      "7 0.23863784497725957 0.06252716473549082 0.7506767831601175 0.04061220029134848\n",
      "78 0.24410254695160447 0.20487964621604815 0.8233127104197738 0.0\n",
      "279 0.11535202258357784 0.09727884327751436 0.9999999999999997 0.0\n",
      "36 0.260202712018299 0.22802594171125223 0.8335072632161563 0.0\n",
      "129 0.14589955182627362 0.11665436022092524 0.9999999999999999 0.0\n",
      "51 0.31270215179050226 0.308913825891708 0.8266993359310716 0.0\n",
      "4 0.7335068530198797 0.7238875180745242 0.7763007093009666 0.6922405969854728\n",
      "9 0.58126817532858 0.596992847041898 0.7391660149641004 0.33092236676355824\n",
      "500 0.15376372670081778 0.13420957695640628 0.9713331907394132 0.0\n",
      "500 0.09520489661550252 0.07605680883920309 1.0000000000000002 0.0\n",
      "241 0.12771922719054346 0.11615146780677053 0.7563190260587825 0.0\n",
      "33 0.32331454252347613 0.29020943038550845 0.7542515967857942 0.042090152328223905\n",
      "23 0.27320302917487077 0.22841057778956503 0.7198728868062447 0.07952465354872831\n",
      "500 0.1654119780153871 0.14637205575962292 0.9999999999999999 0.0\n",
      "22 0.1831198600555009 0.19379917261849972 0.8488800724328928 0.0\n",
      "41 0.17454905702346118 0.1369717510335701 0.7965473193771273 0.0\n",
      "30 0.27803275332598715 0.26166380991423344 0.8504252685887292 0.0\n",
      "4 0.20428188174733433 0.13960128611095066 0.5172692060049386 0.11493659246417995\n",
      "118 0.3158980875517702 0.2975778799105433 0.8459490518073943 0.0\n",
      "71 0.2644088392326587 0.2531438094087579 0.8131262783054095 0.0\n",
      "13 0.530935398028041 0.5453011099249255 0.707037064884574 0.33038026730754266\n",
      "500 0.10453035056970832 0.08802841125169299 1.0 0.0\n",
      "500 0.11736702698708366 0.09850826782513805 1.0 0.0\n",
      "95 0.16641717304711418 0.14176822913760068 0.9599303137492063 0.0\n",
      "500 0.0828478956689268 0.06380505719733012 1.0 0.0\n",
      "144 0.1648699907762522 0.14281449706592608 0.9450073768945613 0.029022635589402084\n",
      "189 0.05639326825343253 0.005511396829611768 0.9696858325378362 0.0\n",
      "19 0.41252528144190376 0.38054621206347583 0.8504252685887292 0.0\n",
      "21 0.2809174142783778 0.21560059046948296 0.7414037141633316 0.08389703580364612\n",
      "49 0.16879914734601223 0.09505601201503641 0.8387340479887169 0.0\n",
      "8 0.7584651947451297 0.7455376875143851 0.9021345210122997 0.6861226874188947\n",
      "89 0.4062721936714204 0.4284753083477473 0.7842395551586591 0.0\n",
      "61 0.19950121342229843 0.1321793127853153 0.7830882323476981 0.0\n",
      "3 0.6212922548742718 0.6140842013870564 0.6658097828879618 0.5839827803477969\n",
      "500 0.07030289033800641 0.05851851090164119 0.9087766460181574 0.0\n",
      "210 0.14585359827741604 0.11411269583992353 0.9351718887453766 0.0\n",
      "500 0.039186108435793426 0.003470601426048858 0.8749361567260985 0.0\n",
      "500 0.09296222689934339 0.07436011002960931 1.0000000000000002 0.0\n",
      "126 0.14502526894368334 0.09261232104451797 0.8468514577237372 0.0\n",
      "500 0.0640050173859176 0.06211853676121815 0.9999999999999997 0.0\n",
      "97 0.20092126788151424 0.14612606683270365 0.9326826290308006 0.0\n",
      "260 0.09129476842467697 0.08325951836429728 0.968547751485755 0.0\n",
      "124 0.11354974292220715 0.0852839367436528 0.9591552882591396 0.0\n",
      "143 0.08540050281924731 0.07610658473973096 0.8300067435777034 0.0\n",
      "49 0.3647090654940053 0.3122671461396998 0.9055260624096164 0.0\n",
      "72 0.3945653124615299 0.4047346749425569 1.0 0.0\n",
      "51 0.11677640496881182 0.05014062443144878 1.0 0.0\n",
      "26 0.13611465874796522 0.11806707821686135 0.7092394015292861 0.0\n",
      "500 0.1042883059625724 0.08796957972965766 0.9999999999999999 0.0\n",
      "500 0.09579579618134665 0.044380209869462346 0.9692522972257648 0.0\n",
      "69 0.23787860738984917 0.21315432849553215 0.9091298205688024 0.0\n",
      "100 0.1339225072672517 0.1240286241342485 0.9349207060217546 0.0\n",
      "30 0.28765163910763275 0.22414876472786152 1.0000000000000002 0.0\n",
      "76 0.30281908179925876 0.2971277904268995 0.8790764718030007 0.0\n",
      "238 0.265668550771662 0.258310872416826 0.9290626049998664 0.0\n",
      "30 0.3178845295399913 0.28442032751628077 0.8487513962366086 0.0\n",
      "5 0.22511761717030354 0.1496077821036562 0.575227294266062 0.05973387927910871\n",
      "500 0.08204772121868993 0.06319249893193703 0.9581643296137882 0.0\n",
      "344 0.16382781730467927 0.13666014491102152 0.9421815847230942 0.0\n",
      "11 0.36097237153512857 0.34778706267331366 0.6892900044255675 0.09429587909483601\n",
      "7 0.5847258318782909 0.5957841885309736 0.7318088295307015 0.4924442998150205\n",
      "19 0.37018902976429074 0.34016498236850223 0.8875352478507681 0.11240115422091082\n",
      "300 0.16338642057956007 0.1382348550656864 1.0000000000000002 0.0\n",
      "54 0.1256863260919111 0.10406587656680391 0.9448279158324718 0.0\n",
      "48 0.33239746100631573 0.29312228028751597 0.7682354144099195 0.0\n",
      "4 0.692603334785642 0.6730154349316808 0.7821724243323854 0.6098627708344851\n",
      "500 0.038796863797220506 0.0 0.8467963889028695 0.0\n",
      "500 0.12555357725287009 0.11557727263138479 0.9464062157564482 0.0\n",
      "15 0.3535184358007179 0.31392846073612934 0.8323676251410161 0.02178047715494205\n",
      "166 0.29261307840129247 0.27660773139988526 0.9434863447063829 0.0\n",
      "78 0.3094544639172471 0.3017215194403249 0.7177166774469371 0.0\n",
      "18 0.27100070367361695 0.27507358777379104 0.7157101326254421 0.0\n",
      "8 0.3603212609463509 0.3219574760144368 0.9237470725108623 0.23285271676096006\n",
      "14 0.46436119654228625 0.49242690982611403 0.7710747843992996 0.08067605399909006\n"
     ]
    }
   ],
   "source": [
    "for truth_cluster in TRUTH:\n",
    "    cluster = [VECTORS[TWEETS_INDEX[_id]['index']] for _id in truth_cluster]\n",
    "    \n",
    "    if len(cluster) > 500:\n",
    "        cluster = sample(cluster, 500)\n",
    "    \n",
    "    sims = []\n",
    "    \n",
    "    for i in range(len(cluster)):\n",
    "        for j in range(i + 1, len(cluster)):\n",
    "            cosine = sparse_dot_product(cluster[i], cluster[j])\n",
    "            sims.append(cosine)\n",
    "                \n",
    "    print(len(cluster), mean(sims), median_low(sims), max(sims), min(sims))"
   ]
  },
  {
   "cell_type": "code",
   "execution_count": 138,
   "id": "e7976949-7b22-4a5b-a854-5f2cc677f971",
   "metadata": {},
   "outputs": [
    {
     "data": {
      "text/plain": [
       "{0: 0.3724233412992261,\n",
       " 1: 0.30285878002097777,\n",
       " 2: 0.26504828453270446,\n",
       " 3: 0.36502759751995767,\n",
       " 4: 0.48437121633298197,\n",
       " 5: 0.4393103267425311,\n",
       " 6: 0.37211911498911404}"
      ]
     },
     "execution_count": 138,
     "metadata": {},
     "output_type": "execute_result"
    }
   ],
   "source": [
    "VECTORS[0]"
   ]
  }
 ],
 "metadata": {
  "kernelspec": {
   "display_name": "Python 3",
   "language": "python",
   "name": "python3"
  },
  "language_info": {
   "codemirror_mode": {
    "name": "ipython",
    "version": 3
   },
   "file_extension": ".py",
   "mimetype": "text/x-python",
   "name": "python",
   "nbconvert_exporter": "python",
   "pygments_lexer": "ipython3",
   "version": "3.6.10"
  }
 },
 "nbformat": 4,
 "nbformat_minor": 5
}
